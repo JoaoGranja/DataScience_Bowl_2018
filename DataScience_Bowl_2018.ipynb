{
  "nbformat": 4,
  "nbformat_minor": 0,
  "metadata": {
    "colab": {
      "name": "DataScience_Bowl_2018.ipynb",
      "provenance": [],
      "collapsed_sections": [],
      "include_colab_link": true
    },
    "kernelspec": {
      "display_name": "Python 3",
      "language": "python",
      "name": "python3"
    },
    "language_info": {
      "codemirror_mode": {
        "name": "ipython",
        "version": 3
      },
      "file_extension": ".py",
      "mimetype": "text/x-python",
      "name": "python",
      "nbconvert_exporter": "python",
      "pygments_lexer": "ipython3",
      "version": "3.7.6"
    },
    "accelerator": "GPU"
  },
  "cells": [
    {
      "cell_type": "markdown",
      "metadata": {
        "id": "view-in-github",
        "colab_type": "text"
      },
      "source": [
        "<a href=\"https://colab.research.google.com/github/JoaoGranja/Data_Science_Bowl_2018/blob/main/DataScience_Bowl_2018.ipynb\" target=\"_parent\"><img src=\"https://colab.research.google.com/assets/colab-badge.svg\" alt=\"Open In Colab\"/></a>"
      ]
    },
    {
      "cell_type": "code",
      "metadata": {
        "id": "fug7eGzTzLbg"
      },
      "source": [
        "# This Python 3 environment comes with many helpful analytics libraries installed\n",
        "# It is defined by the kaggle/python Docker image: https://github.com/kaggle/docker-python\n",
        "# For example, here's several helpful packages to load\n",
        "\n",
        "import numpy as np # linear algebra\n",
        "import pandas as pd # data processing, CSV file I/O (e.g. pd.read_csv)\n",
        "\n",
        "# Input data files are available in the read-only \"../input/\" directory\n",
        "# For example, running this (by clicking run or pressing Shift+Enter) will list all files under the input directory\n",
        "\n",
        "import os\n",
        "#for dirname, _, filenames in os.walk('/kaggle/input'):\n",
        "#    for filename in filenames:\n",
        "        #print(os.path.join(dirname, filename))\n",
        "\n",
        "# You can write up to 20GB to the current directory (/kaggle/working/) that gets preserved as output when you create a version using \"Save & Run All\" \n",
        "# You can also write temporary files to /kaggle/temp/, but they won't be saved outside of the current session"
      ],
      "execution_count": 1,
      "outputs": []
    },
    {
      "cell_type": "markdown",
      "metadata": {
        "id": "qJK6mmaTTcai"
      },
      "source": [
        "# **Colab Preparation**\n",
        "\n",
        "Beforing handling the project, we need to install Kaggle package to connect with kaggle platform and download the project dataset. I also share my google drive to simplify the connection with my kaggle account."
      ]
    },
    {
      "cell_type": "code",
      "metadata": {
        "colab": {
          "base_uri": "https://localhost:8080/"
        },
        "id": "iuyB7Otxz_f1",
        "outputId": "c9ff2d63-dab7-40ff-f936-f4f0b1531932"
      },
      "source": [
        "#Package Installation and share Google Drive\n",
        "!pip uninstall -y kaggle\n",
        "!pip install --upgrade pip\n",
        "!pip install kaggle==1.5.6\n",
        "!pip install --upgrade keras\n",
        "\n",
        "from google.colab import drive\n",
        "drive.mount('/content/drive')\n",
        "\n",
        "!mkdir ~/.kaggle\n",
        "!cp drive/MyDrive/colab/kaggle.json ~/.kaggle/kaggle.json\n",
        "!chmod 600 ~/.kaggle/kaggle.json"
      ],
      "execution_count": 2,
      "outputs": [
        {
          "output_type": "stream",
          "text": [
            "Found existing installation: kaggle 1.5.6\n",
            "Uninstalling kaggle-1.5.6:\n",
            "  Successfully uninstalled kaggle-1.5.6\n",
            "\u001b[33mWARNING: Running pip as root will break packages and permissions. You should install packages reliably by using venv: https://pip.pypa.io/warnings/venv\u001b[0m\n",
            "Requirement already satisfied: pip in /usr/local/lib/python3.7/dist-packages (21.1.1)\n",
            "\u001b[33mWARNING: Running pip as root will break packages and permissions. You should install packages reliably by using venv: https://pip.pypa.io/warnings/venv\u001b[0m\n",
            "Collecting kaggle==1.5.6\n",
            "  Using cached kaggle-1.5.6-py3-none-any.whl\n",
            "Requirement already satisfied: urllib3<1.25,>=1.21.1 in /usr/local/lib/python3.7/dist-packages (from kaggle==1.5.6) (1.24.3)\n",
            "Requirement already satisfied: python-slugify in /usr/local/lib/python3.7/dist-packages (from kaggle==1.5.6) (4.0.1)\n",
            "Requirement already satisfied: certifi in /usr/local/lib/python3.7/dist-packages (from kaggle==1.5.6) (2020.12.5)\n",
            "Requirement already satisfied: six>=1.10 in /usr/local/lib/python3.7/dist-packages (from kaggle==1.5.6) (1.15.0)\n",
            "Requirement already satisfied: tqdm in /usr/local/lib/python3.7/dist-packages (from kaggle==1.5.6) (4.41.1)\n",
            "Requirement already satisfied: python-dateutil in /usr/local/lib/python3.7/dist-packages (from kaggle==1.5.6) (2.8.1)\n",
            "Requirement already satisfied: requests in /usr/local/lib/python3.7/dist-packages (from kaggle==1.5.6) (2.23.0)\n",
            "Requirement already satisfied: text-unidecode>=1.3 in /usr/local/lib/python3.7/dist-packages (from python-slugify->kaggle==1.5.6) (1.3)\n",
            "Requirement already satisfied: idna<3,>=2.5 in /usr/local/lib/python3.7/dist-packages (from requests->kaggle==1.5.6) (2.10)\n",
            "Requirement already satisfied: chardet<4,>=3.0.2 in /usr/local/lib/python3.7/dist-packages (from requests->kaggle==1.5.6) (3.0.4)\n",
            "Installing collected packages: kaggle\n",
            "Successfully installed kaggle-1.5.6\n",
            "\u001b[33mWARNING: Running pip as root will break packages and permissions. You should install packages reliably by using venv: https://pip.pypa.io/warnings/venv\u001b[0m\n",
            "Requirement already satisfied: keras in /usr/local/lib/python3.7/dist-packages (2.4.3)\n",
            "Requirement already satisfied: numpy>=1.9.1 in /usr/local/lib/python3.7/dist-packages (from keras) (1.19.5)\n",
            "Requirement already satisfied: pyyaml in /usr/local/lib/python3.7/dist-packages (from keras) (3.13)\n",
            "Requirement already satisfied: scipy>=0.14 in /usr/local/lib/python3.7/dist-packages (from keras) (1.4.1)\n",
            "Requirement already satisfied: h5py in /usr/local/lib/python3.7/dist-packages (from keras) (2.10.0)\n",
            "Requirement already satisfied: six in /usr/local/lib/python3.7/dist-packages (from h5py->keras) (1.15.0)\n",
            "\u001b[33mWARNING: Running pip as root will break packages and permissions. You should install packages reliably by using venv: https://pip.pypa.io/warnings/venv\u001b[0m\n",
            "Drive already mounted at /content/drive; to attempt to forcibly remount, call drive.mount(\"/content/drive\", force_remount=True).\n",
            "mkdir: cannot create directory ‘/root/.kaggle’: File exists\n"
          ],
          "name": "stdout"
        }
      ]
    },
    {
      "cell_type": "code",
      "metadata": {
        "id": "SzRAHp9mAPFs"
      },
      "source": [
        "#! kaggle competitions list"
      ],
      "execution_count": 3,
      "outputs": []
    },
    {
      "cell_type": "code",
      "metadata": {
        "colab": {
          "base_uri": "https://localhost:8080/"
        },
        "id": "TIPW-nChHIpg",
        "outputId": "b0e3cfd5-e0e1-46b6-a914-94600f4e3280"
      },
      "source": [
        "# Download the competition dataset\n",
        "!kaggle competitions download -c 'data-science-bowl-2018'"
      ],
      "execution_count": 4,
      "outputs": [
        {
          "output_type": "stream",
          "text": [
            "Downloading data-science-bowl-2018.zip to /content\n",
            " 95% 339M/358M [00:01<00:00, 166MB/s]\n",
            "100% 358M/358M [00:01<00:00, 189MB/s]\n"
          ],
          "name": "stdout"
        }
      ]
    },
    {
      "cell_type": "markdown",
      "metadata": {
        "id": "RU5B9Z27UDSu"
      },
      "source": [
        "# **Data Science Bowl 2018 Dataset**\n",
        "\n",
        "Once downloaded the kaggle dataset 'data-science-bowl-2018', we need to unzip all files to be ready using them. Analyzing the files, we can note that there is a training data for stage 1 and testing data for stage 1 and 2. Sample submission files are also provided to better understant its data formating."
      ]
    },
    {
      "cell_type": "code",
      "metadata": {
        "colab": {
          "base_uri": "https://localhost:8080/"
        },
        "id": "LbZnwpYmgUD0",
        "outputId": "90442815-d74b-4a2d-c2ac-80ee6471afc7"
      },
      "source": [
        "#Unzip the dataset files\n",
        "\n",
        "! unzip /content/data-science-bowl-2018.zip\n",
        "%rm -r /content/data-science-bowl-2018.zip\n",
        "\n",
        "! unzip /content/stage1_sample_submission.csv.zip\n",
        "! unzip /content/stage1_solution.csv.zip\n",
        "! unzip /content/stage1_test.zip -d test\n",
        "! unzip /content/stage1_train.zip -d train\n",
        "! unzip /content/stage1_train_labels.csv.zip\n",
        "! unzip /content/stage2_sample_submission_final.csv.zip\n",
        "! unzip /content/stage2_test_final.zip -d test_final\n",
        "\n",
        "%rm -r *.zip"
      ],
      "execution_count": 5,
      "outputs": [
        {
          "output_type": "stream",
          "text": [
            "Archive:  /content/data-science-bowl-2018.zip\n",
            "  inflating: stage1_sample_submission.csv.zip  \n",
            "  inflating: stage1_solution.csv.zip  \n",
            "  inflating: stage1_test.zip         \n",
            "  inflating: stage1_train.zip        \n",
            "  inflating: stage1_train_labels.csv.zip  \n",
            "  inflating: stage2_sample_submission_final.csv.zip  \n",
            "  inflating: stage2_test_final.zip   \n",
            "Archive:  /content/stage1_sample_submission.csv.zip\n",
            "replace stage1_sample_submission.csv? [y]es, [n]o, [A]ll, [N]one, [r]ename: N\n",
            "Archive:  /content/stage1_solution.csv.zip\n",
            "replace stage1_solution.csv? [y]es, [n]o, [A]ll, [N]one, [r]ename: N\n",
            "Archive:  /content/stage1_test.zip\n",
            "replace test/0114f484a16c152baa2d82fdd43740880a762c93f436c8988ac461c5c9dbe7d5/images/0114f484a16c152baa2d82fdd43740880a762c93f436c8988ac461c5c9dbe7d5.png? [y]es, [n]o, [A]ll, [N]one, [r]ename: N\n",
            "Archive:  /content/stage1_train.zip\n",
            "replace train/00071198d059ba7f5914a526d124d28e6d010c92466da21d4a04cd5413362552/images/00071198d059ba7f5914a526d124d28e6d010c92466da21d4a04cd5413362552.png? [y]es, [n]o, [A]ll, [N]one, [r]ename: N\n",
            "Archive:  /content/stage1_train_labels.csv.zip\n",
            "replace stage1_train_labels.csv? [y]es, [n]o, [A]ll, [N]one, [r]ename: N\n",
            "Archive:  /content/stage2_sample_submission_final.csv.zip\n",
            "replace stage2_sample_submission_final.csv? [y]es, [n]o, [A]ll, [N]one, [r]ename: N\n",
            "Archive:  /content/stage2_test_final.zip\n",
            "replace test_final/6f7e721627885c81f7c9819d7723032907e8088fe62fea9ff4bc59db4dc378a8/images/6f7e721627885c81f7c9819d7723032907e8088fe62fea9ff4bc59db4dc378a8.png? [y]es, [n]o, [A]ll, [N]one, [r]ename: N\n"
          ],
          "name": "stdout"
        }
      ]
    },
    {
      "cell_type": "markdown",
      "metadata": {
        "id": "NToyjnZ4Uc2k"
      },
      "source": [
        " # **Configuration and imports**\n",
        "\n",
        "With the dataset ready, we start importing all modules we need for this project. I also use some configuration parameters to be used through the project"
      ]
    },
    {
      "cell_type": "code",
      "metadata": {
        "id": "Rk78b8REzLbl",
        "colab": {
          "base_uri": "https://localhost:8080/"
        },
        "outputId": "22533a9c-0dfb-4674-b3f4-8c525aadc4b3"
      },
      "source": [
        "# Imports\n",
        "import time\n",
        "import gc\n",
        "import os\n",
        "import sys\n",
        "import random\n",
        "import warnings\n",
        "from google.colab import files\n",
        "\n",
        "import numpy as np\n",
        "import pandas as pd\n",
        "\n",
        "import matplotlib.pyplot as plt\n",
        "\n",
        "from tqdm import tqdm\n",
        "from itertools import chain\n",
        "from skimage.io import imread, imshow, imread_collection, concatenate_images\n",
        "from skimage.transform import resize\n",
        "from skimage.morphology import label\n",
        "\n",
        "#import tensorflow as tf\n",
        "import tensorflow.compat.v1 as tf\n",
        "tf.disable_v2_behavior()\n",
        "\n",
        "from keras.models import Model, load_model\n",
        "from keras.layers import Input\n",
        "from keras.layers.core import Dropout, Lambda\n",
        "from keras.layers.convolutional import Conv2D, Conv2DTranspose\n",
        "from keras.layers.pooling import MaxPooling2D\n",
        "from keras.layers.merge import concatenate\n",
        "from keras.callbacks import EarlyStopping, ModelCheckpoint\n",
        "from tensorflow.keras import backend as K\n",
        "\n",
        "from keras.preprocessing.image import Iterator, load_img, img_to_array\n",
        "\n",
        "# Set some configuration parameters\n",
        "IMG_WIDTH = 128\n",
        "IMG_HEIGHT = 128\n",
        "IMG_CHANNELS = 3\n",
        "\n",
        "warnings.filterwarnings('ignore', category=UserWarning, module='skimage')\n",
        "seed = 42\n",
        "random.seed = seed\n",
        "np.random.seed = seed\n",
        "\n",
        "testing_final = True\n",
        "training = True"
      ],
      "execution_count": 6,
      "outputs": [
        {
          "output_type": "stream",
          "text": [
            "WARNING:tensorflow:From /usr/local/lib/python3.7/dist-packages/tensorflow/python/compat/v2_compat.py:96: disable_resource_variables (from tensorflow.python.ops.variable_scope) is deprecated and will be removed in a future version.\n",
            "Instructions for updating:\n",
            "non-resource variables are not supported in the long term\n"
          ],
          "name": "stdout"
        }
      ]
    },
    {
      "cell_type": "markdown",
      "metadata": {
        "id": "Q9i_voo8zLbs"
      },
      "source": [
        "# **Pre-processing the training and testing dataset**"
      ]
    },
    {
      "cell_type": "code",
      "metadata": {
        "id": "Ch44OyJ4Sfy1"
      },
      "source": [
        "# Get train and test IDs\n",
        "training_folder = 'train'\n",
        "if testing_final:   \n",
        "  testing_folder = 'test_final'\n",
        "else:\n",
        "  testing_folder = 'test'\n",
        "train_ids = next(os.walk(training_folder))[1]\n",
        "test_ids = next(os.walk(testing_folder))[1]\n"
      ],
      "execution_count": 7,
      "outputs": []
    },
    {
      "cell_type": "code",
      "metadata": {
        "colab": {
          "base_uri": "https://localhost:8080/"
        },
        "id": "izz7HK9ySlJC",
        "outputId": "400d3dc4-0800-4861-b5b1-47d293b0a40b"
      },
      "source": [
        "\n",
        "if (training):\n",
        "    # Get and resize train images and masks\n",
        "    X_train = np.zeros((len(train_ids), IMG_HEIGHT, IMG_WIDTH, IMG_CHANNELS), dtype=np.uint8)\n",
        "    Y_train = np.zeros((len(train_ids), IMG_HEIGHT, IMG_WIDTH, 1), dtype=np.bool)\n",
        "    print('Getting and resizing train images and masks ... ')\n",
        "    sys.stdout.flush()\n",
        "    for n, id_ in tqdm(enumerate(train_ids), total=len(train_ids)):\n",
        "        image_path = os.path.join(training_folder, id_, 'images', id_ + '.png')\n",
        "        img = imread(image_path)[:,:,:IMG_CHANNELS]\n",
        "        img = resize(img, (IMG_HEIGHT, IMG_WIDTH), mode='constant', preserve_range=True)\n",
        "        X_train[n] = img\n",
        "        mask = np.zeros((IMG_HEIGHT, IMG_WIDTH, 1), dtype=np.bool)\n",
        "        for mask_file in next(os.walk(os.path.join(training_folder, id_, 'masks')))[2]:\n",
        "            mask_path = os.path.join(training_folder, id_, 'masks', mask_file)\n",
        "            mask_ = imread(mask_path)\n",
        "            mask_ = np.expand_dims(resize(mask_, (IMG_HEIGHT, IMG_WIDTH), mode='constant', \n",
        "                                          preserve_range=True), axis=-1)\n",
        "            mask = np.maximum(mask, mask_)\n",
        "        Y_train[n] = mask\n",
        "\n",
        "# Get and resize test images\n",
        "X_test = np.zeros((len(test_ids), IMG_HEIGHT, IMG_WIDTH, IMG_CHANNELS), dtype=np.uint8)\n",
        "sizes_test = []\n",
        "print('Getting and resizing test images from test_final folder ... ')\n",
        "sys.stdout.flush()\n",
        "for n, id_ in tqdm(enumerate(test_ids), total=len(test_ids)):\n",
        "    image_path = os.path.join(testing_folder, id_, 'images', id_ + '.png')\n",
        "    img = np.array(img_to_array(load_img(image_path)), \"uint8\")[:,:,:IMG_CHANNELS]\n",
        "    sizes_test.append([img.shape[0], img.shape[1]])\n",
        "    img = resize(img, (IMG_HEIGHT, IMG_WIDTH), mode='constant', preserve_range=True)\n",
        "    X_test[n] = img\n",
        "\n",
        "\n",
        "\n",
        "\n",
        "\n",
        "\n",
        "print('Done!')"
      ],
      "execution_count": 8,
      "outputs": [
        {
          "output_type": "stream",
          "text": [
            "Getting and resizing train images and masks ... \n"
          ],
          "name": "stdout"
        },
        {
          "output_type": "stream",
          "text": [
            "100%|██████████| 670/670 [06:04<00:00,  1.84it/s]"
          ],
          "name": "stderr"
        },
        {
          "output_type": "stream",
          "text": [
            "Getting and resizing test images from test_final folder ... \n"
          ],
          "name": "stdout"
        },
        {
          "output_type": "stream",
          "text": [
            "\n",
            "100%|██████████| 3019/3019 [01:26<00:00, 34.91it/s]"
          ],
          "name": "stderr"
        },
        {
          "output_type": "stream",
          "text": [
            "Done!\n"
          ],
          "name": "stdout"
        },
        {
          "output_type": "stream",
          "text": [
            "\n"
          ],
          "name": "stderr"
        }
      ]
    },
    {
      "cell_type": "code",
      "metadata": {
        "colab": {
          "base_uri": "https://localhost:8080/",
          "height": 577
        },
        "id": "36jA0KS_SnSa",
        "outputId": "73ee9b7a-29fd-4736-f6c0-923b185db407"
      },
      "source": [
        "# Check if training data looks all right\n",
        "if (training):\n",
        "    ix = random.randint(0, len(train_ids))\n",
        "    imshow(X_train[ix])\n",
        "    plt.show()\n",
        "    imshow(np.squeeze(Y_train[ix]))\n",
        "    plt.show()"
      ],
      "execution_count": 9,
      "outputs": [
        {
          "output_type": "display_data",
          "data": {
            "image/png": "[encoded data removed]",
            "text/plain": [
              "<Figure size 432x288 with 1 Axes>"
            ]
          },
          "metadata": {
            "tags": [],
            "needs_background": "light"
          }
        },
        {
          "output_type": "display_data",
          "data": {
            "image/png": "[encoded data removed]",
            "text/plain": [
              "<Figure size 432x288 with 1 Axes>"
            ]
          },
          "metadata": {
            "tags": [],
            "needs_background": "light"
          }
        }
      ]
    },
    {
      "cell_type": "markdown",
      "metadata": {
        "id": "_QCnufRUl-Z5"
      },
      "source": [
        "Loss Functions"
      ]
    },
    {
      "cell_type": "code",
      "metadata": {
        "id": "INAQZOJSphOA"
      },
      "source": [
        "def mean_iou(y_true, y_pred):\n",
        "    prec = []\n",
        "    for t in np.arange(0.5, 1.0, 0.05):\n",
        "        y_pred_ = tf.cast(y_pred > t, dtype = tf.int32)\n",
        "        score, up_opt = tf.compat.v1.metrics.mean_iou(y_true, y_pred_, 2)\n",
        "        tf.compat.v1.keras.backend.get_session().run(tf.compat.v1.local_variables_initializer())\n",
        "        with tf.control_dependencies([up_opt]):\n",
        "            score = tf.identity(score)\n",
        "        prec.append(score)\n",
        "    return tf.compat.v1.keras.backend.mean(tf.compat.v1.keras.backend.stack(prec), axis=0)\n",
        "\n",
        "def dice_coef(y_true, y_pred):\n",
        "    smooth = 1.\n",
        "    y_true = tf.cast(y_true, dtype = tf.float32)\n",
        "    y_true_f = tf.compat.v1.keras.backend.flatten(y_true)\n",
        "    y_pred_f = tf.compat.v1.keras.backend.flatten(y_pred)\n",
        "    intersection = tf.compat.v1.keras.backend.sum(y_true_f * y_pred_f)\n",
        "    return (2. * intersection + smooth) / (tf.compat.v1.keras.backend.sum(y_true_f) + tf.compat.v1.keras.backend.sum(y_pred_f) + smooth)"
      ],
      "execution_count": 10,
      "outputs": []
    },
    {
      "cell_type": "markdown",
      "metadata": {
        "id": "qh0B6qJEzLbx"
      },
      "source": [
        "# **Model**\n",
        "\n"
      ]
    },
    {
      "cell_type": "code",
      "metadata": {
        "colab": {
          "base_uri": "https://localhost:8080/"
        },
        "id": "gd5VM-R-Su0_",
        "outputId": "5e105b36-a5a2-4f26-d175-93da88593761"
      },
      "source": [
        "# Build U-Net model\n",
        "inputs = Input((IMG_HEIGHT, IMG_WIDTH, IMG_CHANNELS))\n",
        "s = Lambda(lambda x: x / 255) (inputs)\n",
        "\n",
        "c1 = Conv2D(16, (3, 3), activation='elu', kernel_initializer='he_normal', padding='same') (s)\n",
        "c1 = Dropout(0.1) (c1)\n",
        "c1 = Conv2D(16, (3, 3), activation='elu', kernel_initializer='he_normal', padding='same') (c1)\n",
        "p1 = MaxPooling2D((2, 2)) (c1)\n",
        "\n",
        "c2 = Conv2D(32, (3, 3), activation='elu', kernel_initializer='he_normal', padding='same') (p1)\n",
        "c2 = Dropout(0.1) (c2)\n",
        "c2 = Conv2D(32, (3, 3), activation='elu', kernel_initializer='he_normal', padding='same') (c2)\n",
        "p2 = MaxPooling2D((2, 2)) (c2)\n",
        "\n",
        "c3 = Conv2D(64, (3, 3), activation='elu', kernel_initializer='he_normal', padding='same') (p2)\n",
        "c3 = Dropout(0.2) (c3)\n",
        "c3 = Conv2D(64, (3, 3), activation='elu', kernel_initializer='he_normal', padding='same') (c3)\n",
        "p3 = MaxPooling2D((2, 2)) (c3)\n",
        "\n",
        "c4 = Conv2D(128, (3, 3), activation='elu', kernel_initializer='he_normal', padding='same') (p3)\n",
        "c4 = Dropout(0.2) (c4)\n",
        "c4 = Conv2D(128, (3, 3), activation='elu', kernel_initializer='he_normal', padding='same') (c4)\n",
        "p4 = MaxPooling2D(pool_size=(2, 2)) (c4)\n",
        "\n",
        "c5 = Conv2D(256, (3, 3), activation='elu', kernel_initializer='he_normal', padding='same') (p4)\n",
        "c5 = Dropout(0.3) (c5)\n",
        "c5 = Conv2D(256, (3, 3), activation='elu', kernel_initializer='he_normal', padding='same') (c5)\n",
        "\n",
        "u6 = Conv2DTranspose(128, (2, 2), strides=(2, 2), padding='same') (c5)\n",
        "u6 = concatenate([u6, c4])\n",
        "c6 = Conv2D(128, (3, 3), activation='elu', kernel_initializer='he_normal', padding='same') (u6)\n",
        "c6 = Dropout(0.2) (c6)\n",
        "c6 = Conv2D(128, (3, 3), activation='elu', kernel_initializer='he_normal', padding='same') (c6)\n",
        "\n",
        "u7 = Conv2DTranspose(64, (2, 2), strides=(2, 2), padding='same') (c6)\n",
        "u7 = concatenate([u7, c3])\n",
        "c7 = Conv2D(64, (3, 3), activation='elu', kernel_initializer='he_normal', padding='same') (u7)\n",
        "c7 = Dropout(0.2) (c7)\n",
        "c7 = Conv2D(64, (3, 3), activation='elu', kernel_initializer='he_normal', padding='same') (c7)\n",
        "\n",
        "u8 = Conv2DTranspose(32, (2, 2), strides=(2, 2), padding='same') (c7)\n",
        "u8 = concatenate([u8, c2])\n",
        "c8 = Conv2D(32, (3, 3), activation='elu', kernel_initializer='he_normal', padding='same') (u8)\n",
        "c8 = Dropout(0.1) (c8)\n",
        "c8 = Conv2D(32, (3, 3), activation='elu', kernel_initializer='he_normal', padding='same') (c8)\n",
        "\n",
        "u9 = Conv2DTranspose(16, (2, 2), strides=(2, 2), padding='same') (c8)\n",
        "u9 = concatenate([u9, c1], axis=3)\n",
        "c9 = Conv2D(16, (3, 3), activation='elu', kernel_initializer='he_normal', padding='same') (u9)\n",
        "c9 = Dropout(0.1) (c9)\n",
        "c9 = Conv2D(16, (3, 3), activation='elu', kernel_initializer='he_normal', padding='same') (c9)\n",
        "\n",
        "outputs = Conv2D(1, (1, 1), activation='sigmoid') (c9)\n",
        "\n",
        "model = Model(inputs=[inputs], outputs=[outputs])\n",
        "model.compile(optimizer='adam', loss='binary_crossentropy', metrics=[mean_iou, dice_coef])\n",
        "model.summary()"
      ],
      "execution_count": 11,
      "outputs": [
        {
          "output_type": "stream",
          "text": [
            "WARNING:tensorflow:From /usr/local/lib/python3.7/dist-packages/tensorflow/python/autograph/converters/directives.py:130: The name tf.keras.backend.get_session is deprecated. Please use tf.compat.v1.keras.backend.get_session instead.\n",
            "\n",
            "Model: \"model\"\n",
            "__________________________________________________________________________________________________\n",
            "Layer (type)                    Output Shape         Param #     Connected to                     \n",
            "==================================================================================================\n",
            "input_1 (InputLayer)            [(None, 128, 128, 3) 0                                            \n",
            "__________________________________________________________________________________________________\n",
            "lambda (Lambda)                 (None, 128, 128, 3)  0           input_1[0][0]                    \n",
            "__________________________________________________________________________________________________\n",
            "conv2d (Conv2D)                 (None, 128, 128, 16) 448         lambda[0][0]                     \n",
            "__________________________________________________________________________________________________\n",
            "dropout (Dropout)               (None, 128, 128, 16) 0           conv2d[0][0]                     \n",
            "__________________________________________________________________________________________________\n",
            "conv2d_1 (Conv2D)               (None, 128, 128, 16) 2320        dropout[0][0]                    \n",
            "__________________________________________________________________________________________________\n",
            "max_pooling2d (MaxPooling2D)    (None, 64, 64, 16)   0           conv2d_1[0][0]                   \n",
            "__________________________________________________________________________________________________\n",
            "conv2d_2 (Conv2D)               (None, 64, 64, 32)   4640        max_pooling2d[0][0]              \n",
            "__________________________________________________________________________________________________\n",
            "dropout_1 (Dropout)             (None, 64, 64, 32)   0           conv2d_2[0][0]                   \n",
            "__________________________________________________________________________________________________\n",
            "conv2d_3 (Conv2D)               (None, 64, 64, 32)   9248        dropout_1[0][0]                  \n",
            "__________________________________________________________________________________________________\n",
            "max_pooling2d_1 (MaxPooling2D)  (None, 32, 32, 32)   0           conv2d_3[0][0]                   \n",
            "__________________________________________________________________________________________________\n",
            "conv2d_4 (Conv2D)               (None, 32, 32, 64)   18496       max_pooling2d_1[0][0]            \n",
            "__________________________________________________________________________________________________\n",
            "dropout_2 (Dropout)             (None, 32, 32, 64)   0           conv2d_4[0][0]                   \n",
            "__________________________________________________________________________________________________\n",
            "conv2d_5 (Conv2D)               (None, 32, 32, 64)   36928       dropout_2[0][0]                  \n",
            "__________________________________________________________________________________________________\n",
            "max_pooling2d_2 (MaxPooling2D)  (None, 16, 16, 64)   0           conv2d_5[0][0]                   \n",
            "__________________________________________________________________________________________________\n",
            "conv2d_6 (Conv2D)               (None, 16, 16, 128)  73856       max_pooling2d_2[0][0]            \n",
            "__________________________________________________________________________________________________\n",
            "dropout_3 (Dropout)             (None, 16, 16, 128)  0           conv2d_6[0][0]                   \n",
            "__________________________________________________________________________________________________\n",
            "conv2d_7 (Conv2D)               (None, 16, 16, 128)  147584      dropout_3[0][0]                  \n",
            "__________________________________________________________________________________________________\n",
            "max_pooling2d_3 (MaxPooling2D)  (None, 8, 8, 128)    0           conv2d_7[0][0]                   \n",
            "__________________________________________________________________________________________________\n",
            "conv2d_8 (Conv2D)               (None, 8, 8, 256)    295168      max_pooling2d_3[0][0]            \n",
            "__________________________________________________________________________________________________\n",
            "dropout_4 (Dropout)             (None, 8, 8, 256)    0           conv2d_8[0][0]                   \n",
            "__________________________________________________________________________________________________\n",
            "conv2d_9 (Conv2D)               (None, 8, 8, 256)    590080      dropout_4[0][0]                  \n",
            "__________________________________________________________________________________________________\n",
            "conv2d_transpose (Conv2DTranspo (None, 16, 16, 128)  131200      conv2d_9[0][0]                   \n",
            "__________________________________________________________________________________________________\n",
            "concatenate (Concatenate)       (None, 16, 16, 256)  0           conv2d_transpose[0][0]           \n",
            "                                                                 conv2d_7[0][0]                   \n",
            "__________________________________________________________________________________________________\n",
            "conv2d_10 (Conv2D)              (None, 16, 16, 128)  295040      concatenate[0][0]                \n",
            "__________________________________________________________________________________________________\n",
            "dropout_5 (Dropout)             (None, 16, 16, 128)  0           conv2d_10[0][0]                  \n",
            "__________________________________________________________________________________________________\n",
            "conv2d_11 (Conv2D)              (None, 16, 16, 128)  147584      dropout_5[0][0]                  \n",
            "__________________________________________________________________________________________________\n",
            "conv2d_transpose_1 (Conv2DTrans (None, 32, 32, 64)   32832       conv2d_11[0][0]                  \n",
            "__________________________________________________________________________________________________\n",
            "concatenate_1 (Concatenate)     (None, 32, 32, 128)  0           conv2d_transpose_1[0][0]         \n",
            "                                                                 conv2d_5[0][0]                   \n",
            "__________________________________________________________________________________________________\n",
            "conv2d_12 (Conv2D)              (None, 32, 32, 64)   73792       concatenate_1[0][0]              \n",
            "__________________________________________________________________________________________________\n",
            "dropout_6 (Dropout)             (None, 32, 32, 64)   0           conv2d_12[0][0]                  \n",
            "__________________________________________________________________________________________________\n",
            "conv2d_13 (Conv2D)              (None, 32, 32, 64)   36928       dropout_6[0][0]                  \n",
            "__________________________________________________________________________________________________\n",
            "conv2d_transpose_2 (Conv2DTrans (None, 64, 64, 32)   8224        conv2d_13[0][0]                  \n",
            "__________________________________________________________________________________________________\n",
            "concatenate_2 (Concatenate)     (None, 64, 64, 64)   0           conv2d_transpose_2[0][0]         \n",
            "                                                                 conv2d_3[0][0]                   \n",
            "__________________________________________________________________________________________________\n",
            "conv2d_14 (Conv2D)              (None, 64, 64, 32)   18464       concatenate_2[0][0]              \n",
            "__________________________________________________________________________________________________\n",
            "dropout_7 (Dropout)             (None, 64, 64, 32)   0           conv2d_14[0][0]                  \n",
            "__________________________________________________________________________________________________\n",
            "conv2d_15 (Conv2D)              (None, 64, 64, 32)   9248        dropout_7[0][0]                  \n",
            "__________________________________________________________________________________________________\n",
            "conv2d_transpose_3 (Conv2DTrans (None, 128, 128, 16) 2064        conv2d_15[0][0]                  \n",
            "__________________________________________________________________________________________________\n",
            "concatenate_3 (Concatenate)     (None, 128, 128, 32) 0           conv2d_transpose_3[0][0]         \n",
            "                                                                 conv2d_1[0][0]                   \n",
            "__________________________________________________________________________________________________\n",
            "conv2d_16 (Conv2D)              (None, 128, 128, 16) 4624        concatenate_3[0][0]              \n",
            "__________________________________________________________________________________________________\n",
            "dropout_8 (Dropout)             (None, 128, 128, 16) 0           conv2d_16[0][0]                  \n",
            "__________________________________________________________________________________________________\n",
            "conv2d_17 (Conv2D)              (None, 128, 128, 16) 2320        dropout_8[0][0]                  \n",
            "__________________________________________________________________________________________________\n",
            "conv2d_18 (Conv2D)              (None, 128, 128, 1)  17          conv2d_17[0][0]                  \n",
            "==================================================================================================\n",
            "Total params: 1,941,105\n",
            "Trainable params: 1,941,105\n",
            "Non-trainable params: 0\n",
            "__________________________________________________________________________________________________\n"
          ],
          "name": "stdout"
        }
      ]
    },
    {
      "cell_type": "markdown",
      "metadata": {
        "id": "mSADHpegzLb-"
      },
      "source": [
        "# **Training**"
      ]
    },
    {
      "cell_type": "code",
      "metadata": {
        "colab": {
          "base_uri": "https://localhost:8080/"
        },
        "id": "cSWGGh32Svnu",
        "outputId": "e324575f-e5f2-4571-a2e1-643a8ea6bd12"
      },
      "source": [
        "# Fit model\n",
        "if (training):\n",
        "    earlystopper = EarlyStopping(patience=5, verbose=1)\n",
        "    checkpointer = ModelCheckpoint('model-dsbowl2018-1.h5', verbose=1, save_best_only=True)\n",
        "    results = model.fit(X_train, Y_train, validation_split=0.1, batch_size=16, epochs=50, \n",
        "                        callbacks=[earlystopper, checkpointer])   "
      ],
      "execution_count": 12,
      "outputs": [
        {
          "output_type": "stream",
          "text": [
            "Train on 603 samples, validate on 67 samples\n",
            "Epoch 1/50\n",
            "603/603 [==============================] - ETA: 0s - loss: 0.3420 - mean_iou: 0.4475 - dice_coef: 0.5125"
          ],
          "name": "stdout"
        },
        {
          "output_type": "stream",
          "text": [
            "/usr/local/lib/python3.7/dist-packages/tensorflow/python/keras/engine/training.py:2325: UserWarning: `Model.state_updates` will be removed in a future version. This property should not be used in TensorFlow 2.0, as `updates` are applied automatically.\n",
            "  warnings.warn('`Model.state_updates` will be removed in a future version. '\n"
          ],
          "name": "stderr"
        },
        {
          "output_type": "stream",
          "text": [
            "\n",
            "Epoch 00001: val_loss improved from inf to 0.24383, saving model to model-dsbowl2018-1.h5\n",
            "603/603 [==============================] - 8s 14ms/sample - loss: 0.3420 - mean_iou: 0.4475 - dice_coef: 0.5125 - val_loss: 0.2438 - val_mean_iou: 0.5665 - val_dice_coef: 0.6705\n",
            "Epoch 2/50\n",
            "592/603 [============================>.] - ETA: 0s - loss: 0.1778 - mean_iou: 0.6144 - dice_coef: 0.7316\n",
            "Epoch 00002: val_loss improved from 0.24383 to 0.16396, saving model to model-dsbowl2018-1.h5\n",
            "603/603 [==============================] - 2s 4ms/sample - loss: 0.1782 - mean_iou: 0.6154 - dice_coef: 0.7333 - val_loss: 0.1640 - val_mean_iou: 0.6582 - val_dice_coef: 0.8076\n",
            "Epoch 3/50\n",
            "592/603 [============================>.] - ETA: 0s - loss: 0.1455 - mean_iou: 0.6841 - dice_coef: 0.7919\n",
            "Epoch 00003: val_loss did not improve from 0.16396\n",
            "603/603 [==============================] - 2s 4ms/sample - loss: 0.1452 - mean_iou: 0.6846 - dice_coef: 0.7909 - val_loss: 0.1662 - val_mean_iou: 0.7048 - val_dice_coef: 0.8148\n",
            "Epoch 4/50\n",
            "592/603 [============================>.] - ETA: 0s - loss: 0.1263 - mean_iou: 0.7204 - dice_coef: 0.8201\n",
            "Epoch 00004: val_loss improved from 0.16396 to 0.13068, saving model to model-dsbowl2018-1.h5\n",
            "603/603 [==============================] - 2s 4ms/sample - loss: 0.1261 - mean_iou: 0.7208 - dice_coef: 0.8204 - val_loss: 0.1307 - val_mean_iou: 0.7349 - val_dice_coef: 0.8155\n",
            "Epoch 5/50\n",
            "592/603 [============================>.] - ETA: 0s - loss: 0.1156 - mean_iou: 0.7454 - dice_coef: 0.8378\n",
            "Epoch 00005: val_loss improved from 0.13068 to 0.10832, saving model to model-dsbowl2018-1.h5\n",
            "603/603 [==============================] - 2s 4ms/sample - loss: 0.1163 - mean_iou: 0.7456 - dice_coef: 0.8371 - val_loss: 0.1083 - val_mean_iou: 0.7550 - val_dice_coef: 0.7683\n",
            "Epoch 6/50\n",
            "592/603 [============================>.] - ETA: 0s - loss: 0.1108 - mean_iou: 0.7623 - dice_coef: 0.8433\n",
            "Epoch 00006: val_loss improved from 0.10832 to 0.09744, saving model to model-dsbowl2018-1.h5\n",
            "603/603 [==============================] - 2s 4ms/sample - loss: 0.1106 - mean_iou: 0.7624 - dice_coef: 0.8428 - val_loss: 0.0974 - val_mean_iou: 0.7697 - val_dice_coef: 0.8434\n",
            "Epoch 7/50\n",
            "592/603 [============================>.] - ETA: 0s - loss: 0.1018 - mean_iou: 0.7759 - dice_coef: 0.8566\n",
            "Epoch 00007: val_loss improved from 0.09744 to 0.09724, saving model to model-dsbowl2018-1.h5\n",
            "603/603 [==============================] - 2s 4ms/sample - loss: 0.1027 - mean_iou: 0.7760 - dice_coef: 0.8562 - val_loss: 0.0972 - val_mean_iou: 0.7818 - val_dice_coef: 0.8576\n",
            "Epoch 8/50\n",
            "592/603 [============================>.] - ETA: 0s - loss: 0.0991 - mean_iou: 0.7866 - dice_coef: 0.8593\n",
            "Epoch 00008: val_loss improved from 0.09724 to 0.09490, saving model to model-dsbowl2018-1.h5\n",
            "603/603 [==============================] - 2s 4ms/sample - loss: 0.0987 - mean_iou: 0.7867 - dice_coef: 0.8594 - val_loss: 0.0949 - val_mean_iou: 0.7910 - val_dice_coef: 0.8608\n",
            "Epoch 9/50\n",
            "592/603 [============================>.] - ETA: 0s - loss: 0.0954 - mean_iou: 0.7949 - dice_coef: 0.8668\n",
            "Epoch 00009: val_loss improved from 0.09490 to 0.08849, saving model to model-dsbowl2018-1.h5\n",
            "603/603 [==============================] - 2s 4ms/sample - loss: 0.0957 - mean_iou: 0.7950 - dice_coef: 0.8661 - val_loss: 0.0885 - val_mean_iou: 0.7988 - val_dice_coef: 0.8668\n",
            "Epoch 10/50\n",
            "592/603 [============================>.] - ETA: 0s - loss: 0.0952 - mean_iou: 0.8017 - dice_coef: 0.8648\n",
            "Epoch 00010: val_loss did not improve from 0.08849\n",
            "603/603 [==============================] - 2s 4ms/sample - loss: 0.0949 - mean_iou: 0.8018 - dice_coef: 0.8652 - val_loss: 0.0888 - val_mean_iou: 0.8049 - val_dice_coef: 0.8550\n",
            "Epoch 11/50\n",
            "592/603 [============================>.] - ETA: 0s - loss: 0.0920 - mean_iou: 0.8077 - dice_coef: 0.8721\n",
            "Epoch 00011: val_loss improved from 0.08849 to 0.08535, saving model to model-dsbowl2018-1.h5\n",
            "603/603 [==============================] - 2s 4ms/sample - loss: 0.0920 - mean_iou: 0.8078 - dice_coef: 0.8718 - val_loss: 0.0854 - val_mean_iou: 0.8104 - val_dice_coef: 0.8548\n",
            "Epoch 12/50\n",
            "592/603 [============================>.] - ETA: 0s - loss: 0.0898 - mean_iou: 0.8127 - dice_coef: 0.8687\n",
            "Epoch 00012: val_loss did not improve from 0.08535\n",
            "603/603 [==============================] - 2s 4ms/sample - loss: 0.0909 - mean_iou: 0.8128 - dice_coef: 0.8685 - val_loss: 0.0862 - val_mean_iou: 0.8149 - val_dice_coef: 0.8654\n",
            "Epoch 13/50\n",
            "592/603 [============================>.] - ETA: 0s - loss: 0.0902 - mean_iou: 0.8172 - dice_coef: 0.8734\n",
            "Epoch 00013: val_loss improved from 0.08535 to 0.08299, saving model to model-dsbowl2018-1.h5\n",
            "603/603 [==============================] - 2s 4ms/sample - loss: 0.0897 - mean_iou: 0.8172 - dice_coef: 0.8733 - val_loss: 0.0830 - val_mean_iou: 0.8191 - val_dice_coef: 0.8572\n",
            "Epoch 14/50\n",
            "592/603 [============================>.] - ETA: 0s - loss: 0.0872 - mean_iou: 0.8207 - dice_coef: 0.8743\n",
            "Epoch 00014: val_loss improved from 0.08299 to 0.08032, saving model to model-dsbowl2018-1.h5\n",
            "603/603 [==============================] - 2s 4ms/sample - loss: 0.0871 - mean_iou: 0.8208 - dice_coef: 0.8743 - val_loss: 0.0803 - val_mean_iou: 0.8227 - val_dice_coef: 0.8756\n",
            "Epoch 15/50\n",
            "592/603 [============================>.] - ETA: 0s - loss: 0.0853 - mean_iou: 0.8245 - dice_coef: 0.8788\n",
            "Epoch 00015: val_loss improved from 0.08032 to 0.07763, saving model to model-dsbowl2018-1.h5\n",
            "603/603 [==============================] - 2s 4ms/sample - loss: 0.0853 - mean_iou: 0.8245 - dice_coef: 0.8791 - val_loss: 0.0776 - val_mean_iou: 0.8260 - val_dice_coef: 0.8836\n",
            "Epoch 16/50\n",
            "592/603 [============================>.] - ETA: 0s - loss: 0.0863 - mean_iou: 0.8276 - dice_coef: 0.8783\n",
            "Epoch 00016: val_loss did not improve from 0.07763\n",
            "603/603 [==============================] - 2s 4ms/sample - loss: 0.0866 - mean_iou: 0.8276 - dice_coef: 0.8780 - val_loss: 0.0799 - val_mean_iou: 0.8289 - val_dice_coef: 0.8763\n",
            "Epoch 17/50\n",
            "592/603 [============================>.] - ETA: 0s - loss: 0.0866 - mean_iou: 0.8302 - dice_coef: 0.8767\n",
            "Epoch 00017: val_loss did not improve from 0.07763\n",
            "603/603 [==============================] - 2s 4ms/sample - loss: 0.0859 - mean_iou: 0.8302 - dice_coef: 0.8776 - val_loss: 0.0811 - val_mean_iou: 0.8315 - val_dice_coef: 0.8635\n",
            "Epoch 18/50\n",
            "592/603 [============================>.] - ETA: 0s - loss: 0.0833 - mean_iou: 0.8326 - dice_coef: 0.8824\n",
            "Epoch 00018: val_loss improved from 0.07763 to 0.07633, saving model to model-dsbowl2018-1.h5\n",
            "603/603 [==============================] - 2s 4ms/sample - loss: 0.0824 - mean_iou: 0.8326 - dice_coef: 0.8829 - val_loss: 0.0763 - val_mean_iou: 0.8339 - val_dice_coef: 0.8823\n",
            "Epoch 19/50\n",
            "592/603 [============================>.] - ETA: 0s - loss: 0.0824 - mean_iou: 0.8351 - dice_coef: 0.8825\n",
            "Epoch 00019: val_loss did not improve from 0.07633\n",
            "603/603 [==============================] - 2s 4ms/sample - loss: 0.0819 - mean_iou: 0.8351 - dice_coef: 0.8830 - val_loss: 0.0801 - val_mean_iou: 0.8362 - val_dice_coef: 0.8747\n",
            "Epoch 20/50\n",
            "592/603 [============================>.] - ETA: 0s - loss: 0.0818 - mean_iou: 0.8372 - dice_coef: 0.8833\n",
            "Epoch 00020: val_loss did not improve from 0.07633\n",
            "603/603 [==============================] - 2s 4ms/sample - loss: 0.0812 - mean_iou: 0.8373 - dice_coef: 0.8847 - val_loss: 0.0779 - val_mean_iou: 0.8383 - val_dice_coef: 0.8813\n",
            "Epoch 21/50\n",
            "592/603 [============================>.] - ETA: 0s - loss: 0.0793 - mean_iou: 0.8393 - dice_coef: 0.8890\n",
            "Epoch 00021: val_loss did not improve from 0.07633\n",
            "603/603 [==============================] - 2s 4ms/sample - loss: 0.0794 - mean_iou: 0.8393 - dice_coef: 0.8885 - val_loss: 0.0844 - val_mean_iou: 0.8404 - val_dice_coef: 0.8750\n",
            "Epoch 22/50\n",
            "592/603 [============================>.] - ETA: 0s - loss: 0.0779 - mean_iou: 0.8411 - dice_coef: 0.8876\n",
            "Epoch 00022: val_loss improved from 0.07633 to 0.07441, saving model to model-dsbowl2018-1.h5\n",
            "603/603 [==============================] - 2s 4ms/sample - loss: 0.0780 - mean_iou: 0.8411 - dice_coef: 0.8868 - val_loss: 0.0744 - val_mean_iou: 0.8421 - val_dice_coef: 0.8922\n",
            "Epoch 23/50\n",
            "592/603 [============================>.] - ETA: 0s - loss: 0.0782 - mean_iou: 0.8430 - dice_coef: 0.8873\n",
            "Epoch 00023: val_loss did not improve from 0.07441\n",
            "603/603 [==============================] - 2s 4ms/sample - loss: 0.0777 - mean_iou: 0.8430 - dice_coef: 0.8879 - val_loss: 0.0751 - val_mean_iou: 0.8438 - val_dice_coef: 0.8953\n",
            "Epoch 24/50\n",
            "592/603 [============================>.] - ETA: 0s - loss: 0.0779 - mean_iou: 0.8446 - dice_coef: 0.8893\n",
            "Epoch 00024: val_loss improved from 0.07441 to 0.07373, saving model to model-dsbowl2018-1.h5\n",
            "603/603 [==============================] - 2s 4ms/sample - loss: 0.0776 - mean_iou: 0.8447 - dice_coef: 0.8896 - val_loss: 0.0737 - val_mean_iou: 0.8455 - val_dice_coef: 0.8881\n",
            "Epoch 25/50\n",
            "592/603 [============================>.] - ETA: 0s - loss: 0.0777 - mean_iou: 0.8463 - dice_coef: 0.8902\n",
            "Epoch 00025: val_loss did not improve from 0.07373\n",
            "603/603 [==============================] - 2s 4ms/sample - loss: 0.0773 - mean_iou: 0.8463 - dice_coef: 0.8910 - val_loss: 0.0789 - val_mean_iou: 0.8470 - val_dice_coef: 0.8807\n",
            "Epoch 26/50\n",
            "592/603 [============================>.] - ETA: 0s - loss: 0.0771 - mean_iou: 0.8477 - dice_coef: 0.8901\n",
            "Epoch 00026: val_loss did not improve from 0.07373\n",
            "603/603 [==============================] - 2s 4ms/sample - loss: 0.0766 - mean_iou: 0.8477 - dice_coef: 0.8910 - val_loss: 0.0803 - val_mean_iou: 0.8484 - val_dice_coef: 0.8792\n",
            "Epoch 27/50\n",
            "592/603 [============================>.] - ETA: 0s - loss: 0.0756 - mean_iou: 0.8490 - dice_coef: 0.8900\n",
            "Epoch 00027: val_loss did not improve from 0.07373\n",
            "603/603 [==============================] - 2s 4ms/sample - loss: 0.0759 - mean_iou: 0.8490 - dice_coef: 0.8904 - val_loss: 0.0743 - val_mean_iou: 0.8497 - val_dice_coef: 0.8756\n",
            "Epoch 28/50\n",
            "592/603 [============================>.] - ETA: 0s - loss: 0.0780 - mean_iou: 0.8502 - dice_coef: 0.8888\n",
            "Epoch 00028: val_loss did not improve from 0.07373\n",
            "603/603 [==============================] - 2s 4ms/sample - loss: 0.0776 - mean_iou: 0.8503 - dice_coef: 0.8893 - val_loss: 0.0837 - val_mean_iou: 0.8509 - val_dice_coef: 0.8913\n",
            "Epoch 29/50\n",
            "592/603 [============================>.] - ETA: 0s - loss: 0.0733 - mean_iou: 0.8515 - dice_coef: 0.8950\n",
            "Epoch 00029: val_loss improved from 0.07373 to 0.07272, saving model to model-dsbowl2018-1.h5\n",
            "603/603 [==============================] - 2s 4ms/sample - loss: 0.0745 - mean_iou: 0.8515 - dice_coef: 0.8937 - val_loss: 0.0727 - val_mean_iou: 0.8521 - val_dice_coef: 0.8823\n",
            "Epoch 30/50\n",
            "592/603 [============================>.] - ETA: 0s - loss: 0.0707 - mean_iou: 0.8526 - dice_coef: 0.8964\n",
            "Epoch 00030: val_loss did not improve from 0.07272\n",
            "603/603 [==============================] - 2s 4ms/sample - loss: 0.0713 - mean_iou: 0.8526 - dice_coef: 0.8956 - val_loss: 0.0735 - val_mean_iou: 0.8533 - val_dice_coef: 0.8966\n",
            "Epoch 31/50\n",
            "592/603 [============================>.] - ETA: 0s - loss: 0.0706 - mean_iou: 0.8539 - dice_coef: 0.8978\n",
            "Epoch 00031: val_loss improved from 0.07272 to 0.07185, saving model to model-dsbowl2018-1.h5\n",
            "603/603 [==============================] - 2s 4ms/sample - loss: 0.0704 - mean_iou: 0.8540 - dice_coef: 0.8982 - val_loss: 0.0718 - val_mean_iou: 0.8545 - val_dice_coef: 0.8870\n",
            "Epoch 32/50\n",
            "592/603 [============================>.] - ETA: 0s - loss: 0.0699 - mean_iou: 0.8551 - dice_coef: 0.8994\n",
            "Epoch 00032: val_loss did not improve from 0.07185\n",
            "603/603 [==============================] - 2s 4ms/sample - loss: 0.0705 - mean_iou: 0.8551 - dice_coef: 0.8990 - val_loss: 0.0783 - val_mean_iou: 0.8557 - val_dice_coef: 0.8850\n",
            "Epoch 33/50\n",
            "592/603 [============================>.] - ETA: 0s - loss: 0.0710 - mean_iou: 0.8562 - dice_coef: 0.8969\n",
            "Epoch 00033: val_loss did not improve from 0.07185\n",
            "603/603 [==============================] - 2s 4ms/sample - loss: 0.0705 - mean_iou: 0.8562 - dice_coef: 0.8967 - val_loss: 0.0814 - val_mean_iou: 0.8567 - val_dice_coef: 0.8805\n",
            "Epoch 34/50\n",
            "592/603 [============================>.] - ETA: 0s - loss: 0.0680 - mean_iou: 0.8573 - dice_coef: 0.9025\n",
            "Epoch 00034: val_loss improved from 0.07185 to 0.07106, saving model to model-dsbowl2018-1.h5\n",
            "603/603 [==============================] - 2s 4ms/sample - loss: 0.0676 - mean_iou: 0.8573 - dice_coef: 0.9027 - val_loss: 0.0711 - val_mean_iou: 0.8579 - val_dice_coef: 0.8803\n",
            "Epoch 35/50\n",
            "592/603 [============================>.] - ETA: 0s - loss: 0.0665 - mean_iou: 0.8584 - dice_coef: 0.9041\n",
            "Epoch 00035: val_loss did not improve from 0.07106\n",
            "603/603 [==============================] - 2s 4ms/sample - loss: 0.0658 - mean_iou: 0.8584 - dice_coef: 0.9047 - val_loss: 0.0722 - val_mean_iou: 0.8589 - val_dice_coef: 0.9013\n",
            "Epoch 36/50\n",
            "592/603 [============================>.] - ETA: 0s - loss: 0.0618 - mean_iou: 0.8595 - dice_coef: 0.9099\n",
            "Epoch 00036: val_loss did not improve from 0.07106\n",
            "603/603 [==============================] - 2s 4ms/sample - loss: 0.0620 - mean_iou: 0.8596 - dice_coef: 0.9090 - val_loss: 0.0740 - val_mean_iou: 0.8601 - val_dice_coef: 0.9031\n",
            "Epoch 37/50\n",
            "592/603 [============================>.] - ETA: 0s - loss: 0.0633 - mean_iou: 0.8607 - dice_coef: 0.9089\n",
            "Epoch 00037: val_loss did not improve from 0.07106\n",
            "603/603 [==============================] - 2s 4ms/sample - loss: 0.0633 - mean_iou: 0.8607 - dice_coef: 0.9086 - val_loss: 0.0744 - val_mean_iou: 0.8612 - val_dice_coef: 0.8745\n",
            "Epoch 38/50\n",
            "592/603 [============================>.] - ETA: 0s - loss: 0.0618 - mean_iou: 0.8617 - dice_coef: 0.9105\n",
            "Epoch 00038: val_loss did not improve from 0.07106\n",
            "603/603 [==============================] - 2s 4ms/sample - loss: 0.0613 - mean_iou: 0.8617 - dice_coef: 0.9105 - val_loss: 0.0779 - val_mean_iou: 0.8623 - val_dice_coef: 0.8833\n",
            "Epoch 39/50\n",
            "592/603 [============================>.] - ETA: 0s - loss: 0.0610 - mean_iou: 0.8628 - dice_coef: 0.9103\n",
            "Epoch 00039: val_loss did not improve from 0.07106\n",
            "603/603 [==============================] - 2s 4ms/sample - loss: 0.0612 - mean_iou: 0.8628 - dice_coef: 0.9101 - val_loss: 0.0722 - val_mean_iou: 0.8633 - val_dice_coef: 0.8966\n",
            "Epoch 00039: early stopping\n"
          ],
          "name": "stdout"
        }
      ]
    },
    {
      "cell_type": "markdown",
      "metadata": {
        "id": "rg9NFaPNzLcH"
      },
      "source": [
        "# **Evaluation**\n",
        "\n",
        "Predict the masks for training, validation and testing data"
      ]
    },
    {
      "cell_type": "code",
      "metadata": {
        "colab": {
          "base_uri": "https://localhost:8080/"
        },
        "id": "KKaRjb6BSxnW",
        "outputId": "3fb762a2-5439-413d-d24d-78879e4a535f"
      },
      "source": [
        "# Predict on train, val and test\n",
        "model = load_model('model-dsbowl2018-1.h5', custom_objects={'mean_iou': mean_iou, 'dice_coef': dice_coef})\n",
        "\n",
        "if (training):\n",
        "    preds_train = model.predict(X_train[:int(X_train.shape[0]*0.9)], verbose=1)\n",
        "    preds_val = model.predict(X_train[int(X_train.shape[0]*0.9):], verbose=1)\n",
        "    # Threshold predictions\n",
        "    preds_train_t = (preds_train > 0.5).astype(np.uint8)\n",
        "    preds_val_t = (preds_val > 0.5).astype(np.uint8)\n",
        "\n",
        "\n",
        "preds_test = model.predict(X_test, verbose=1)\n",
        "\n",
        "# Threshold predictions\n",
        "preds_test_t = (preds_test > 0.5).astype(np.uint8)\n",
        "\n",
        "# Create list of upsampled test masks\n",
        "preds_test_upsampled = []\n",
        "for i in range(len(preds_test)):\n",
        "    preds_test_upsampled.append(resize(np.squeeze(preds_test[i]), \n",
        "                                      (sizes_test[i][0], sizes_test[i][1]), \n",
        "                                      mode='constant', preserve_range=True))\n",
        "      "
      ],
      "execution_count": 13,
      "outputs": [
        {
          "output_type": "stream",
          "text": [
            "WARNING:tensorflow:From /usr/local/lib/python3.7/dist-packages/tensorflow/python/ops/init_ops.py:97: calling Zeros.__init__ (from tensorflow.python.ops.init_ops) with dtype is deprecated and will be removed in a future version.\n",
            "Instructions for updating:\n",
            "Call initializer instance with the dtype argument instead of passing it to the constructor\n",
            "WARNING:tensorflow:From /usr/local/lib/python3.7/dist-packages/tensorflow/python/ops/init_ops.py:97: calling GlorotUniform.__init__ (from tensorflow.python.ops.init_ops) with dtype is deprecated and will be removed in a future version.\n",
            "Instructions for updating:\n",
            "Call initializer instance with the dtype argument instead of passing it to the constructor\n"
          ],
          "name": "stdout"
        },
        {
          "output_type": "stream",
          "text": [
            "/usr/local/lib/python3.7/dist-packages/tensorflow/python/keras/engine/training.py:2325: UserWarning: `Model.state_updates` will be removed in a future version. This property should not be used in TensorFlow 2.0, as `updates` are applied automatically.\n",
            "  warnings.warn('`Model.state_updates` will be removed in a future version. '\n"
          ],
          "name": "stderr"
        }
      ]
    },
    {
      "cell_type": "markdown",
      "metadata": {
        "id": "lI4rNBwYgXwv"
      },
      "source": [
        "# **Visualise Training and Validation Results**"
      ]
    },
    {
      "cell_type": "code",
      "metadata": {
        "colab": {
          "base_uri": "https://localhost:8080/",
          "height": 857
        },
        "id": "HhAjZCoKSz5h",
        "outputId": "f3b86ccc-08fd-425b-9af0-1ebd1e92c5d5"
      },
      "source": [
        "# Perform a sanity check on some random training samples\n",
        "if (training):\n",
        "    ix = random.randint(0, len(preds_train_t))\n",
        "    imshow(X_train[ix])\n",
        "    plt.show()\n",
        "    imshow(np.squeeze(Y_train[ix]))\n",
        "    plt.show()\n",
        "    imshow(np.squeeze(preds_train_t[ix]))\n",
        "    plt.show()"
      ],
      "execution_count": 14,
      "outputs": [
        {
          "output_type": "display_data",
          "data": {
            "image/png": "[encoded data removed]",
            "text/plain": [
              "<Figure size 432x288 with 1 Axes>"
            ]
          },
          "metadata": {
            "tags": [],
            "needs_background": "light"
          }
        },
        {
          "output_type": "display_data",
          "data": {
            "image/png": "[encoded data removed]",
            "text/plain": [
              "<Figure size 432x288 with 1 Axes>"
            ]
          },
          "metadata": {
            "tags": [],
            "needs_background": "light"
          }
        },
        {
          "output_type": "display_data",
          "data": {
            "image/png": "[encoded data removed]",
            "text/plain": [
              "<Figure size 432x288 with 2 Axes>"
            ]
          },
          "metadata": {
            "tags": [],
            "needs_background": "light"
          }
        }
      ]
    },
    {
      "cell_type": "code",
      "metadata": {
        "colab": {
          "base_uri": "https://localhost:8080/",
          "height": 857
        },
        "id": "AQqy0u47S3Mg",
        "outputId": "8bbf48d2-23a0-4213-9cca-e50729e84862"
      },
      "source": [
        "# Perform a sanity check on some random validation samples\n",
        "if (training):\n",
        "    ix = random.randint(0, len(preds_val_t))\n",
        "    imshow(X_train[int(X_train.shape[0]*0.9):][ix])\n",
        "    plt.show()\n",
        "    imshow(np.squeeze(Y_train[int(Y_train.shape[0]*0.9):][ix]))\n",
        "    plt.show()\n",
        "    imshow(np.squeeze(preds_val_t[ix]))\n",
        "    plt.show()"
      ],
      "execution_count": 15,
      "outputs": [
        {
          "output_type": "display_data",
          "data": {
            "image/png": "[encoded data removed]",
            "text/plain": [
              "<Figure size 432x288 with 1 Axes>"
            ]
          },
          "metadata": {
            "tags": [],
            "needs_background": "light"
          }
        },
        {
          "output_type": "display_data",
          "data": {
            "image/png": "[encoded data removed]",
            "text/plain": [
              "<Figure size 432x288 with 1 Axes>"
            ]
          },
          "metadata": {
            "tags": [],
            "needs_background": "light"
          }
        },
        {
          "output_type": "display_data",
          "data": {
            "image/png": "[encoded data removed]",
            "text/plain": [
              "<Figure size 432x288 with 2 Axes>"
            ]
          },
          "metadata": {
            "tags": [],
            "needs_background": "light"
          }
        }
      ]
    },
    {
      "cell_type": "markdown",
      "metadata": {
        "id": "hTvdJOuLzLcP"
      },
      "source": [
        "# **Storing Predictions**\n"
      ]
    },
    {
      "cell_type": "code",
      "metadata": {
        "id": "y8n-MFYBS6Se"
      },
      "source": [
        "# Run-length encoding stolen from https://www.kaggle.com/rakhlin/fast-run-length-encoding-python\n",
        "def rle_encoding(x):\n",
        "    dots = np.where(x.T.flatten() == 1)[0]\n",
        "    run_lengths = []\n",
        "    prev = -2\n",
        "    for b in dots:\n",
        "        if (b>prev+1): run_lengths.extend((b + 1, 0))\n",
        "        run_lengths[-1] += 1\n",
        "        prev = b\n",
        "    return run_lengths\n",
        "\n",
        "def prob_to_rles(x, cutoff=0.5):\n",
        "    lab_img = label(x > cutoff)\n",
        "    for i in range(1, lab_img.max() + 1):\n",
        "        yield rle_encoding(lab_img == i)"
      ],
      "execution_count": 16,
      "outputs": []
    },
    {
      "cell_type": "code",
      "metadata": {
        "id": "t5XCE3onS71S"
      },
      "source": [
        "new_test_ids = []\n",
        "rles = []\n",
        "for n, id_ in enumerate(test_ids):\n",
        "    rle = list(prob_to_rles(preds_test_upsampled[n]))\n",
        "    rles.extend(rle)\n",
        "    new_test_ids.extend([id_] * len(rle))"
      ],
      "execution_count": 18,
      "outputs": []
    },
    {
      "cell_type": "code",
      "metadata": {
        "id": "36vCigEXNcYf"
      },
      "source": [
        "# Perform a sanity check of the run-length encoding format\n",
        "def check_rles(rles):\n",
        "    c = 0\n",
        "    for rle in rles:\n",
        "        c += 1\n",
        "        for i in range(0, len(rle)-2, 2):\n",
        "            if i != len(rle):\n",
        "                if (rle[i]+rle[i+1] > rle[i+2]):\n",
        "                    print(\"BUG {} {}\".format(c,i))\n",
        "                    print(\"{0} + {1} = {2} > {3}\".format(rle[i], rle[i+1], rle[i]+rle[i+1], rle[i+2]))\n",
        "                    \n",
        "check_rles(rles)"
      ],
      "execution_count": 19,
      "outputs": []
    },
    {
      "cell_type": "code",
      "metadata": {
        "colab": {
          "base_uri": "https://localhost:8080/",
          "height": 577
        },
        "id": "AZMUbCHCNffH",
        "outputId": "1c4de425-8b73-496e-d6c8-42554a6d06cc"
      },
      "source": [
        "# Perform a sanity check on some random testing samples\n",
        "imshow(X_test[0])\n",
        "plt.show()\n",
        "preds_test_upsampled_0 = (preds_test_upsampled[0] > 0.5).astype(np.uint8)\n",
        "imshow(np.squeeze(preds_test_upsampled_0))\n",
        "plt.show()"
      ],
      "execution_count": 20,
      "outputs": [
        {
          "output_type": "display_data",
          "data": {
            "image/png": "[encoded data removed]",
            "text/plain": [
              "<Figure size 432x288 with 2 Axes>"
            ]
          },
          "metadata": {
            "tags": [],
            "needs_background": "light"
          }
        },
        {
          "output_type": "display_data",
          "data": {
            "image/png": "[encoded data removed]",
            "text/plain": [
              "<Figure size 432x288 with 2 Axes>"
            ]
          },
          "metadata": {
            "tags": [],
            "needs_background": "light"
          }
        }
      ]
    },
    {
      "cell_type": "markdown",
      "metadata": {
        "id": "hEkPnoM6zLcT"
      },
      "source": [
        "# **Save results**\n",
        "After the model has predicted the mask for the testing set, we can save them in a csv file.\n"
      ]
    },
    {
      "cell_type": "code",
      "metadata": {
        "id": "0q4fRWozS-tA"
      },
      "source": [
        "# Create submission DataFrame\n",
        "sub = pd.DataFrame()\n",
        "sub['ImageId'] = new_test_ids\n",
        "sub['EncodedPixels'] = pd.Series(rles).apply(lambda x: ' '.join(str(y) for y in x))\n",
        "sub.to_csv('sub-dsbowl2018.csv', index=False)\n",
        "\n",
        "!cp 'sub-dsbowl2018.csv' '/content/drive/MyDrive/colab/DSB_2018/sub-dsbowl2018.csv'"
      ],
      "execution_count": 21,
      "outputs": []
    }
  ]
}